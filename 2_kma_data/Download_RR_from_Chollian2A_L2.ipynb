{
 "cells": [
  {
   "cell_type": "markdown",
   "id": "fbccb5c1",
   "metadata": {},
   "source": [
    "# 천리안 위성 2A호 Level 2 강우강도(RR) 자료  취득 절차"
   ]
  },
  {
   "cell_type": "markdown",
   "id": "a7b6acf2",
   "metadata": {},
   "source": [
    "* 관련 데이터\n",
    "  - RR(강우강도): Rainfall Rate (mm/hr)"
   ]
  },
  {
   "cell_type": "markdown",
   "id": "b43e9d56",
   "metadata": {},
   "source": [
    "## 1. 변수지정"
   ]
  },
  {
   "cell_type": "code",
   "execution_count": 2,
   "id": "92ca52cd",
   "metadata": {},
   "outputs": [],
   "source": [
    "## 변수지정\n",
    "\n",
    "RR = \"RR\" # 강우강도\n",
    "TPW = \"TPW\"  # 가강수량"
   ]
  },
  {
   "cell_type": "markdown",
   "id": "c395b1f7",
   "metadata": {},
   "source": [
    "## 2. Python Library와 자료취득 기간 설정"
   ]
  },
  {
   "cell_type": "code",
   "execution_count": null,
   "id": "5a535447",
   "metadata": {},
   "outputs": [],
   "source": [
    "import pandas\n",
    "from datetime import datetime\n",
    "import wget\n",
    "\n",
    "start = datetime(2022, 1, 27, 13, 0)\n",
    "end = datetime(2022, 3, 31, 23, 50)"
   ]
  },
  {
   "cell_type": "markdown",
   "id": "1bba225f",
   "metadata": {},
   "source": [
    "## 3. 자료취득기간내 10분단위 시간자료 생성"
   ]
  },
  {
   "cell_type": "code",
   "execution_count": null,
   "id": "cb99cce4",
   "metadata": {},
   "outputs": [],
   "source": [
    "dates = pandas.date_range(start=start, end=end, freq='10T')\n",
    "dates"
   ]
  },
  {
   "cell_type": "markdown",
   "id": "3a0916c4",
   "metadata": {},
   "source": [
    "## 4. 천리안 자료 명칭지정을 위해 Date 포맷을 Text로 변환"
   ]
  },
  {
   "cell_type": "code",
   "execution_count": null,
   "id": "17357534",
   "metadata": {},
   "outputs": [],
   "source": [
    "data_period = []\n",
    "for date in dates:\n",
    "    date_time = datetime.strptime(str(date), '%Y-%m-%d %H:%M:%S')\n",
    "    date_time_str = date_time.strftime('%Y%m%d%H%M')\n",
    "    data_period.append(date_time_str)"
   ]
  },
  {
   "cell_type": "markdown",
   "id": "32eee140",
   "metadata": {},
   "source": [
    "## 5. 천리안자료 download 시작"
   ]
  },
  {
   "cell_type": "markdown",
   "id": "67e9dbc2",
   "metadata": {},
   "source": [
    " * 저장위치 변경시 wget명령 뒤의 'RR/RR_{value}.nc'자료 변경필요"
   ]
  },
  {
   "cell_type": "code",
   "execution_count": null,
   "id": "e2e627b8",
   "metadata": {},
   "outputs": [],
   "source": [
    "for value in data_period:\n",
    "    try:\n",
    "        !wget \"http://api.nmsc.kma.go.kr:9080/api/GK2A/LE2/RR/KO/data?date={value}&key=NMSCe084741aa1354e068d1715e630656ce2\" -l=1 -O RR/RR_{value}.nc\n",
    "    except:\n",
    "        pass"
   ]
  },
  {
   "cell_type": "markdown",
   "id": "a4d7ecab",
   "metadata": {},
   "source": [
    "## 6. 다운받은 천리안 자료의 확인"
   ]
  },
  {
   "cell_type": "code",
   "execution_count": null,
   "id": "465e8e99",
   "metadata": {},
   "outputs": [],
   "source": [
    "import xarray as xr\n",
    "RR = xr.open_dataset(\"RR\\\\RR_\"+str(data_period[0])+\".nc\")\n",
    "RR"
   ]
  }
 ],
 "metadata": {
  "kernelspec": {
   "display_name": "Python 3 (ipykernel)",
   "language": "python",
   "name": "python3"
  },
  "language_info": {
   "codemirror_mode": {
    "name": "ipython",
    "version": 3
   },
   "file_extension": ".py",
   "mimetype": "text/x-python",
   "name": "python",
   "nbconvert_exporter": "python",
   "pygments_lexer": "ipython3",
   "version": "3.7.11"
  }
 },
 "nbformat": 4,
 "nbformat_minor": 5
}
